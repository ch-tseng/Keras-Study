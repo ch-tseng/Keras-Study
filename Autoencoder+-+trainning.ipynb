{
 "cells": [
  {
   "cell_type": "code",
   "execution_count": 14,
   "metadata": {},
   "outputs": [],
   "source": [
    "from keras.layers import Input, Dense\n",
    "from keras.models import Model"
   ]
  },
  {
   "cell_type": "code",
   "execution_count": 17,
   "metadata": {
    "collapsed": true
   },
   "outputs": [],
   "source": [
    "encoding_dim = 32"
   ]
  },
  {
   "cell_type": "code",
   "execution_count": 18,
   "metadata": {
    "collapsed": true
   },
   "outputs": [],
   "source": [
    "input_img = Input(shape=(784,))\n",
    "encoded = Dense(encoding_dim, activation='relu')(input_img)\n",
    "decoded = Dense(784, activation='sigmoid')(encoded)"
   ]
  },
  {
   "cell_type": "code",
   "execution_count": 19,
   "metadata": {
    "collapsed": true
   },
   "outputs": [],
   "source": [
    "autoencoder = Model(input_img, decoded)\n",
    "encoder = Model(input_img, encoded)\n",
    "encoded_input = Input(shape=(encoding_dim,))\n",
    "decoder_layer = autoencoder.layers[-1]\n",
    "decoder = Model(encoded_input, decoder_layer(encoded_input))\n",
    "autoencoder.compile(optimizer='adadelta', loss='binary_crossentropy')"
   ]
  },
  {
   "cell_type": "code",
   "execution_count": 20,
   "metadata": {
    "collapsed": true
   },
   "outputs": [],
   "source": [
    "from keras.datasets import mnist\n",
    "import numpy as np\n",
    "(x_train, _), (x_test, _) = mnist.load_data()"
   ]
  },
  {
   "cell_type": "code",
   "execution_count": 21,
   "metadata": {},
   "outputs": [
    {
     "name": "stdout",
     "output_type": "stream",
     "text": [
      "(60000, 784)\n",
      "(10000, 784)\n"
     ]
    }
   ],
   "source": [
    "x_train = x_train.astype('float32') / 255.\n",
    "x_test = x_test.astype('float32') / 255.\n",
    "x_train = x_train.reshape((len(x_train), np.prod(x_train.shape[1:])))\n",
    "x_test = x_test.reshape((len(x_test), np.prod(x_test.shape[1:])))\n",
    "print (x_train.shape)\n",
    "print (x_test.shape)"
   ]
  },
  {
   "cell_type": "code",
   "execution_count": 23,
   "metadata": {},
   "outputs": [
    {
     "name": "stdout",
     "output_type": "stream",
     "text": [
      "Train on 60000 samples, validate on 10000 samples\n",
      "Epoch 1/50\n",
      "60000/60000 [==============================] - 3s - loss: 0.3662 - val_loss: 0.2723\n",
      "Epoch 2/50\n",
      "60000/60000 [==============================] - 2s - loss: 0.2647 - val_loss: 0.2535\n",
      "Epoch 3/50\n",
      "60000/60000 [==============================] - 2s - loss: 0.2431 - val_loss: 0.2303\n",
      "Epoch 4/50\n",
      "60000/60000 [==============================] - 2s - loss: 0.2223 - val_loss: 0.2121\n",
      "Epoch 5/50\n",
      "60000/60000 [==============================] - 2s - loss: 0.2069 - val_loss: 0.1991\n",
      "Epoch 6/50\n",
      "60000/60000 [==============================] - 2s - loss: 0.1958 - val_loss: 0.1898\n",
      "Epoch 7/50\n",
      "60000/60000 [==============================] - 2s - loss: 0.1876 - val_loss: 0.1827\n",
      "Epoch 8/50\n",
      "60000/60000 [==============================] - 2s - loss: 0.1809 - val_loss: 0.1764\n",
      "Epoch 9/50\n",
      "60000/60000 [==============================] - 2s - loss: 0.1752 - val_loss: 0.1711\n",
      "Epoch 10/50\n",
      "60000/60000 [==============================] - 2s - loss: 0.1701 - val_loss: 0.1663\n",
      "Epoch 11/50\n",
      "60000/60000 [==============================] - 2s - loss: 0.1656 - val_loss: 0.1621\n",
      "Epoch 12/50\n",
      "60000/60000 [==============================] - 2s - loss: 0.1615 - val_loss: 0.1581\n",
      "Epoch 13/50\n",
      "60000/60000 [==============================] - 2s - loss: 0.1577 - val_loss: 0.1544\n",
      "Epoch 14/50\n",
      "60000/60000 [==============================] - 2s - loss: 0.1541 - val_loss: 0.1510\n",
      "Epoch 15/50\n",
      "60000/60000 [==============================] - 2s - loss: 0.1508 - val_loss: 0.1478\n",
      "Epoch 16/50\n",
      "60000/60000 [==============================] - 2s - loss: 0.1476 - val_loss: 0.1447\n",
      "Epoch 17/50\n",
      "60000/60000 [==============================] - 2s - loss: 0.1446 - val_loss: 0.1417\n",
      "Epoch 18/50\n",
      "60000/60000 [==============================] - 2s - loss: 0.1418 - val_loss: 0.1390\n",
      "Epoch 19/50\n",
      "60000/60000 [==============================] - 2s - loss: 0.1392 - val_loss: 0.1364\n",
      "Epoch 20/50\n",
      "60000/60000 [==============================] - 2s - loss: 0.1367 - val_loss: 0.1339\n",
      "Epoch 21/50\n",
      "60000/60000 [==============================] - 2s - loss: 0.1343 - val_loss: 0.1317\n",
      "Epoch 22/50\n",
      "60000/60000 [==============================] - 2s - loss: 0.1321 - val_loss: 0.1295\n",
      "Epoch 23/50\n",
      "60000/60000 [==============================] - 2s - loss: 0.1299 - val_loss: 0.1274\n",
      "Epoch 24/50\n",
      "60000/60000 [==============================] - 2s - loss: 0.1279 - val_loss: 0.1254\n",
      "Epoch 25/50\n",
      "60000/60000 [==============================] - 2s - loss: 0.1260 - val_loss: 0.1235\n",
      "Epoch 26/50\n",
      "60000/60000 [==============================] - 2s - loss: 0.1241 - val_loss: 0.1217\n",
      "Epoch 27/50\n",
      "60000/60000 [==============================] - 2s - loss: 0.1224 - val_loss: 0.1200\n",
      "Epoch 28/50\n",
      "60000/60000 [==============================] - 2s - loss: 0.1208 - val_loss: 0.1184\n",
      "Epoch 29/50\n",
      "60000/60000 [==============================] - 2s - loss: 0.1192 - val_loss: 0.1170\n",
      "Epoch 30/50\n",
      "60000/60000 [==============================] - 2s - loss: 0.1178 - val_loss: 0.1155\n",
      "Epoch 31/50\n",
      "60000/60000 [==============================] - 2s - loss: 0.1165 - val_loss: 0.1142\n",
      "Epoch 32/50\n",
      "60000/60000 [==============================] - 2s - loss: 0.1152 - val_loss: 0.1130\n",
      "Epoch 33/50\n",
      "60000/60000 [==============================] - 2s - loss: 0.1141 - val_loss: 0.1119\n",
      "Epoch 34/50\n",
      "60000/60000 [==============================] - 2s - loss: 0.1130 - val_loss: 0.1109\n",
      "Epoch 35/50\n",
      "60000/60000 [==============================] - 3s - loss: 0.1120 - val_loss: 0.1100\n",
      "Epoch 36/50\n",
      "60000/60000 [==============================] - 2s - loss: 0.1111 - val_loss: 0.1090\n",
      "Epoch 37/50\n",
      "60000/60000 [==============================] - 2s - loss: 0.1102 - val_loss: 0.1082\n",
      "Epoch 38/50\n",
      "60000/60000 [==============================] - 2s - loss: 0.1095 - val_loss: 0.1074\n",
      "Epoch 39/50\n",
      "60000/60000 [==============================] - 2s - loss: 0.1087 - val_loss: 0.1067\n",
      "Epoch 40/50\n",
      "60000/60000 [==============================] - 2s - loss: 0.1081 - val_loss: 0.1061\n",
      "Epoch 41/50\n",
      "60000/60000 [==============================] - 2s - loss: 0.1074 - val_loss: 0.1055\n",
      "Epoch 42/50\n",
      "60000/60000 [==============================] - 2s - loss: 0.1068 - val_loss: 0.1049\n",
      "Epoch 43/50\n",
      "60000/60000 [==============================] - 2s - loss: 0.1063 - val_loss: 0.1044\n",
      "Epoch 44/50\n",
      "60000/60000 [==============================] - 2s - loss: 0.1058 - val_loss: 0.1039\n",
      "Epoch 45/50\n",
      "60000/60000 [==============================] - 2s - loss: 0.1053 - val_loss: 0.1034\n",
      "Epoch 46/50\n",
      "60000/60000 [==============================] - 2s - loss: 0.1049 - val_loss: 0.1030\n",
      "Epoch 47/50\n",
      "60000/60000 [==============================] - 2s - loss: 0.1045 - val_loss: 0.1026\n",
      "Epoch 48/50\n",
      "60000/60000 [==============================] - 2s - loss: 0.1041 - val_loss: 0.1022\n",
      "Epoch 49/50\n",
      "60000/60000 [==============================] - 2s - loss: 0.1037 - val_loss: 0.1019\n",
      "Epoch 50/50\n",
      "60000/60000 [==============================] - 2s - loss: 0.1034 - val_loss: 0.1016\n"
     ]
    }
   ],
   "source": [
    "autoencoder.fit(x_train, x_train,\n",
    "                epochs=50,\n",
    "                batch_size=256,\n",
    "                shuffle=True,\n",
    "                validation_data=(x_test, x_test))\n",
    "encoded_imgs = encoder.predict(x_test)\n",
    "decoded_imgs = decoder.predict(encoded_imgs)"
   ]
  },
  {
   "cell_type": "code",
   "execution_count": 26,
   "metadata": {},
   "outputs": [
    {
     "data": {
      "text/plain": [
       "<matplotlib.figure.Figure at 0x7fc199d29f98>"
      ]
     },
     "execution_count": 26,
     "metadata": {},
     "output_type": "execute_result"
    }
   ],
   "source": [
    "import matplotlib.pyplot as plt\n",
    "n = 10\n",
    "plt.figure(figsize=(20, 4))"
   ]
  },
  {
   "cell_type": "code",
   "execution_count": 27,
   "metadata": {},
   "outputs": [
    {
     "data": {
      "image/png": "[encoded data removed]",
      "text/plain": [
       "<matplotlib.figure.Figure at 0x7fc199d29f98>"
      ]
     },
     "metadata": {},
     "output_type": "display_data"
    }
   ],
   "source": [
    "for i in range(n):\n",
    "\t#顯示原圖\n",
    "    ax = plt.subplot(2, n, i + 1)\n",
    "    plt.imshow(x_test[i].reshape(28, 28))\n",
    "    plt.gray()\n",
    "    ax.get_xaxis().set_visible(False)\n",
    "    ax.get_yaxis().set_visible(False)\n",
    "\t#顯示重構的圖片\n",
    "    ax = plt.subplot(2, n, i + 1 + n)\n",
    "    plt.imshow(decoded_imgs[i].reshape(28, 28))\n",
    "    plt.gray()\n",
    "    ax.get_xaxis().set_visible(False)\n",
    "    ax.get_yaxis().set_visible(False)\n",
    "plt.show()\n"
   ]
  },
  {
   "cell_type": "code",
   "execution_count": null,
   "metadata": {
    "collapsed": true
   },
   "outputs": [],
   "source": []
  }
 ],
 "metadata": {
  "kernelspec": {
   "display_name": "Python 3",
   "language": "python",
   "name": "python3"
  },
  "language_info": {
   "codemirror_mode": {
    "name": "ipython",
    "version": 3
   },
   "file_extension": ".py",
   "mimetype": "text/x-python",
   "name": "python",
   "nbconvert_exporter": "python",
   "pygments_lexer": "ipython3",
   "version": "3.6.1"
  }
 },
 "nbformat": 4,
 "nbformat_minor": 2
}
