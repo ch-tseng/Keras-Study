{
 "cells": [
  {
   "cell_type": "code",
   "execution_count": 11,
   "metadata": {
    "collapsed": true
   },
   "outputs": [],
   "source": [
    "from sklearn.neural_network import BernoulliRBM\n",
    "import matplotlib.pyplot as plt\n",
    "from sklearn import datasets"
   ]
  },
  {
   "cell_type": "code",
   "execution_count": 12,
   "metadata": {
    "collapsed": true
   },
   "outputs": [],
   "source": [
    "digits = datasets.load_digits()\n",
    "data = digits.data.astype(\"float\")\n",
    "data = (data - data.min(axis=0)) / (data.max(axis=0) + 1e-5)"
   ]
  },
  {
   "cell_type": "code",
   "execution_count": 13,
   "metadata": {},
   "outputs": [
    {
     "name": "stdout",
     "output_type": "stream",
     "text": [
      "[BernoulliRBM] Iteration 1, pseudo-likelihood = -25.57, time = 0.30s\n",
      "[BernoulliRBM] Iteration 2, pseudo-likelihood = -25.57, time = 0.14s\n",
      "[BernoulliRBM] Iteration 3, pseudo-likelihood = -25.33, time = 0.06s\n",
      "[BernoulliRBM] Iteration 4, pseudo-likelihood = -24.11, time = 0.06s\n",
      "[BernoulliRBM] Iteration 5, pseudo-likelihood = -22.69, time = 0.06s\n",
      "[BernoulliRBM] Iteration 6, pseudo-likelihood = -22.08, time = 0.06s\n",
      "[BernoulliRBM] Iteration 7, pseudo-likelihood = -21.55, time = 0.06s\n",
      "[BernoulliRBM] Iteration 8, pseudo-likelihood = -21.78, time = 0.06s\n",
      "[BernoulliRBM] Iteration 9, pseudo-likelihood = -21.34, time = 0.06s\n",
      "[BernoulliRBM] Iteration 10, pseudo-likelihood = -21.15, time = 0.06s\n",
      "[BernoulliRBM] Iteration 11, pseudo-likelihood = -21.18, time = 0.06s\n",
      "[BernoulliRBM] Iteration 12, pseudo-likelihood = -20.78, time = 0.06s\n",
      "[BernoulliRBM] Iteration 13, pseudo-likelihood = -20.75, time = 0.06s\n",
      "[BernoulliRBM] Iteration 14, pseudo-likelihood = -20.45, time = 0.06s\n",
      "[BernoulliRBM] Iteration 15, pseudo-likelihood = -20.21, time = 0.06s\n",
      "[BernoulliRBM] Iteration 16, pseudo-likelihood = -20.18, time = 0.06s\n",
      "[BernoulliRBM] Iteration 17, pseudo-likelihood = -20.32, time = 0.06s\n",
      "[BernoulliRBM] Iteration 18, pseudo-likelihood = -20.03, time = 0.06s\n",
      "[BernoulliRBM] Iteration 19, pseudo-likelihood = -19.95, time = 0.06s\n",
      "[BernoulliRBM] Iteration 20, pseudo-likelihood = -19.78, time = 0.06s\n"
     ]
    },
    {
     "data": {
      "text/plain": [
       "BernoulliRBM(batch_size=10, learning_rate=0.05, n_components=64, n_iter=20,\n",
       "       random_state=42, verbose=True)"
      ]
     },
     "execution_count": 13,
     "metadata": {},
     "output_type": "execute_result"
    }
   ],
   "source": [
    "rbm = BernoulliRBM(n_components=64, learning_rate=0.05, n_iter=20, random_state=42, verbose=True)\n",
    "rbm.fit(data)"
   ]
  },
  {
   "cell_type": "code",
   "execution_count": 14,
   "metadata": {},
   "outputs": [
    {
     "data": {
      "text/plain": [
       "<matplotlib.text.Text at 0x7fe9e016dac8>"
      ]
     },
     "execution_count": 14,
     "metadata": {},
     "output_type": "execute_result"
    }
   ],
   "source": [
    "plt.figure()\n",
    "plt.suptitle(\"64 MNIST graphics rebuild by RBM\")"
   ]
  },
  {
   "cell_type": "code",
   "execution_count": 15,
   "metadata": {
    "collapsed": true
   },
   "outputs": [],
   "source": [
    "for (i, comp) in enumerate(rbm.components_):\n",
    "\t# construct a sub-plot for the component and display the image\n",
    "\tplt.subplot(8, 8, i + 1)\n",
    "\tplt.imshow(comp.reshape((8, 8)), cmap=plt.cm.gray_r, interpolation=\"nearest\")\n",
    "\tplt.xticks([])\n",
    "\tplt.yticks([])"
   ]
  },
  {
   "cell_type": "code",
   "execution_count": 10,
   "metadata": {},
   "outputs": [
    {
     "data": {
      "text/plain": [
       "<matplotlib.figure.Figure at 0x7fe9e53520b8>"
      ]
     },
     "metadata": {},
     "output_type": "display_data"
    },
    {
     "data": {
      "image/png": "[encoded data removed]",
      "text/plain": [
       "<matplotlib.figure.Figure at 0x7fe9e4e91dd8>"
      ]
     },
     "metadata": {},
     "output_type": "display_data"
    }
   ],
   "source": [
    "plt.show()"
   ]
  },
  {
   "cell_type": "code",
   "execution_count": null,
   "metadata": {
    "collapsed": true
   },
   "outputs": [],
   "source": []
  }
 ],
 "metadata": {
  "kernelspec": {
   "display_name": "Python 3",
   "language": "python",
   "name": "python3"
  },
  "language_info": {
   "codemirror_mode": {
    "name": "ipython",
    "version": 3
   },
   "file_extension": ".py",
   "mimetype": "text/x-python",
   "name": "python",
   "nbconvert_exporter": "python",
   "pygments_lexer": "ipython3",
   "version": "3.6.1"
  }
 },
 "nbformat": 4,
 "nbformat_minor": 2
}
